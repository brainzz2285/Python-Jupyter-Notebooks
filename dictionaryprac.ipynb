{
 "cells": [
  {
   "cell_type": "code",
   "execution_count": 34,
   "metadata": {},
   "outputs": [
    {
     "name": "stdout",
     "output_type": "stream",
     "text": [
      "apple\n",
      "None\n",
      "ball\n",
      "{1: 'apple', 2: 'kiwi'}\n",
      "{1: 'apple', 2: 'kiwi', 3: 'guava', 4: 'grape', 5: 'jackfruit', 6: 'orange', 7: 'strawberry', 8: 'blueberry', 9: 'dragonfruit'}\n",
      "dict_keys([1, 2, 3, 4, 5, 6, 7, 8, 9])\n",
      "dict_values(['apple', 'kiwi', 'guava', 'grape', 'jackfruit', 'orange', 'strawberry', 'blueberry', 'dragonfruit'])\n"
     ]
    }
   ],
   "source": [
    "my_dict = {}\n",
    "my_dict = {1: 'apple', 2: 'ball'}\n",
    "\n",
    "# if not found, will throw error\n",
    "print(my_dict[1])\n",
    "\n",
    "# if not found, get returns None instead of error\n",
    "print(my_dict.get('2'))\n",
    "\n",
    "print(my_dict.get(2))\n",
    "\n",
    "# change value\n",
    "my_dict[2] = 'kiwi'\n",
    "print(my_dict)\n",
    "\n",
    "# add item\n",
    "my_dict[3] = 'guava'  \n",
    "my_dict[4] = 'grape'  \n",
    "my_dict[5] = 'jackfruit'  \n",
    "my_dict[6] = 'orange'  \n",
    "my_dict[7] = 'strawberry'  \n",
    "my_dict[8] = 'blueberry'  \n",
    "my_dict[9] = 'dragonfruit'  \n",
    "print(my_dict)\n",
    "print(my_dict.keys())\n",
    "print(my_dict.values())\n"
   ]
  },
  {
   "cell_type": "code",
   "execution_count": 35,
   "metadata": {},
   "outputs": [
    {
     "name": "stdout",
     "output_type": "stream",
     "text": [
      "grape\n",
      "{1: 'apple', 2: 'kiwi', 3: 'guava', 5: 'jackfruit', 6: 'orange', 7: 'strawberry', 8: 'blueberry', 9: 'dragonfruit'}\n",
      "(9, 'dragonfruit')\n",
      "{1: 'apple', 2: 'kiwi', 3: 'guava', 5: 'jackfruit', 6: 'orange', 7: 'strawberry', 8: 'blueberry'}\n"
     ]
    }
   ],
   "source": [
    "print(my_dict.pop(4))  #grape\n",
    "print(my_dict)\n",
    "print(my_dict.popitem()) #last\n",
    "print(my_dict)"
   ]
  },
  {
   "cell_type": "code",
   "execution_count": null,
   "metadata": {},
   "outputs": [],
   "source": [
    "#my_dict.clear() #clean but keep dict\n",
    "#print(my_dict)"
   ]
  },
  {
   "cell_type": "code",
   "execution_count": null,
   "metadata": {},
   "outputs": [],
   "source": [
    "#del my_dict  # delete object\n",
    "#print(my_dict)"
   ]
  },
  {
   "cell_type": "code",
   "execution_count": 36,
   "metadata": {},
   "outputs": [
    {
     "name": "stdout",
     "output_type": "stream",
     "text": [
      "{1: 1, 2: 3, 3: 6, 4: 10, 5: 15, 6: 21, 7: 28, 8: 36, 9: 45, 10: 55}\n"
     ]
    }
   ],
   "source": [
    "# trying arithmetic progression with dictionary comprehension (d=1)\n",
    "arith = {x: x+(0 if arith.get(x-1)==None else arith[x-1]) for x in range(1,11)}\n",
    "\n",
    "print(arith)"
   ]
  },
  {
   "cell_type": "code",
   "execution_count": 37,
   "metadata": {},
   "outputs": [
    {
     "name": "stdout",
     "output_type": "stream",
     "text": [
      "1 2 3 4 5 6 7 8 9 10 "
     ]
    }
   ],
   "source": [
    "for i in range(1,11):\n",
    "    print(i,end=' ')"
   ]
  },
  {
   "cell_type": "code",
   "execution_count": 38,
   "metadata": {},
   "outputs": [
    {
     "name": "stdout",
     "output_type": "stream",
     "text": [
      "True\n",
      "False\n",
      "False\n"
     ]
    }
   ],
   "source": [
    "# for keys only, not values\n",
    "print(1 in arith)\n",
    "print(11 in arith)\n",
    "print(45 in arith)"
   ]
  },
  {
   "cell_type": "code",
   "execution_count": 39,
   "metadata": {},
   "outputs": [
    {
     "name": "stdout",
     "output_type": "stream",
     "text": [
      "10\n"
     ]
    }
   ],
   "source": [
    "print(len(arith))"
   ]
  },
  {
   "cell_type": "code",
   "execution_count": 40,
   "metadata": {},
   "outputs": [
    {
     "name": "stdout",
     "output_type": "stream",
     "text": [
      "{1: 'apple', 2: 'kiwi', 3: 'guava', 5: 'jackfruit', 6: 'orange', 7: 'strawberry', 8: 'blueberry'}\n",
      "[1, 2, 3, 5, 6, 7, 8]\n"
     ]
    }
   ],
   "source": [
    "print(my_dict)\n",
    "print(sorted(my_dict)) ## ??"
   ]
  },
  {
   "cell_type": "code",
   "execution_count": null,
   "metadata": {},
   "outputs": [],
   "source": []
  }
 ],
 "metadata": {
  "kernelspec": {
   "display_name": "Python 3",
   "language": "python",
   "name": "python3"
  },
  "language_info": {
   "codemirror_mode": {
    "name": "ipython",
    "version": 3
   },
   "file_extension": ".py",
   "mimetype": "text/x-python",
   "name": "python",
   "nbconvert_exporter": "python",
   "pygments_lexer": "ipython3",
   "version": "3.7.6"
  }
 },
 "nbformat": 4,
 "nbformat_minor": 4
}
