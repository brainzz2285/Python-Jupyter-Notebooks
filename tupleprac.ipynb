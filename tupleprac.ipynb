{
 "cells": [
  {
   "cell_type": "code",
   "execution_count": 1,
   "metadata": {},
   "outputs": [
    {
     "name": "stdout",
     "output_type": "stream",
     "text": [
      "()\n",
      "(1, 2, 3)\n",
      "(1, 'Hello', 3.4)\n",
      "('mouse', [8, 4, 6], (1, 2, 3))\n"
     ]
    }
   ],
   "source": [
    "my_tuple = ()\n",
    "print(my_tuple)\n",
    "\n",
    "my_tuple = (1, 2, 3)\n",
    "print(my_tuple)\n",
    "\n",
    "my_tuple = (1, \"Hello\", 3.4)\n",
    "print(my_tuple)\n",
    "\n",
    "# nested tuple\n",
    "my_tuple = (\"mouse\", [8, 4, 6], (1, 2, 3))\n",
    "print(my_tuple)"
   ]
  },
  {
   "cell_type": "code",
   "execution_count": 2,
   "metadata": {},
   "outputs": [
    {
     "name": "stdout",
     "output_type": "stream",
     "text": [
      "(3, 4.6, 'dog')\n",
      "3\n",
      "4.6\n",
      "dog\n"
     ]
    }
   ],
   "source": [
    "my_tuple = 3, 4.6, \"dog\"\n",
    "print(my_tuple)\n",
    "\n",
    "# tuple unpacking\n",
    "a, b, c = my_tuple\n",
    "\n",
    "print(a)\n",
    "print(b)\n",
    "print(c)"
   ]
  },
  {
   "cell_type": "code",
   "execution_count": 5,
   "metadata": {},
   "outputs": [
    {
     "name": "stdout",
     "output_type": "stream",
     "text": [
      "mouse\n",
      "m\n",
      "e\n"
     ]
    }
   ],
   "source": [
    "my_tuple=\"mouse\"\n",
    "print(my_tuple)\n",
    "print(my_tuple[0])\n",
    "print(my_tuple[len(my_tuple)-1])"
   ]
  },
  {
   "cell_type": "code",
   "execution_count": 19,
   "metadata": {},
   "outputs": [
    {
     "name": "stdout",
     "output_type": "stream",
     "text": [
      "('mouse', 'rat')\n",
      "mouse\n",
      "rat\n",
      "rat\n",
      "o\n",
      "e\n",
      "e\n",
      "r\n",
      "r\n"
     ]
    }
   ],
   "source": [
    "my_tuple=\"mouse\",\"rat\"\n",
    "print(my_tuple) # complete tuple\n",
    "print(my_tuple[0]) # first entry\n",
    "print(my_tuple[len(my_tuple)-1]) # last entry\n",
    "print(my_tuple[-1]) # last entry\n",
    "\n",
    "\n",
    "print(my_tuple[0][len(my_tuple)-1]) # [0][1]\n",
    "\n",
    "print(my_tuple[0][len(my_tuple[0])-1]) # [0][len[0]-1] \n",
    "print(my_tuple[0][-1]) # [0][len[0]-1] \n",
    "print(my_tuple[len(my_tuple)-1][0]) # [len-1][0]\n",
    "print(my_tuple[-1][0]) # [len-1][0]"
   ]
  },
  {
   "cell_type": "code",
   "execution_count": 22,
   "metadata": {},
   "outputs": [
    {
     "name": "stdout",
     "output_type": "stream",
     "text": [
      "('mouse', 'rat', 'dog', 'cat', 'lion', 'tiger', 'monkey', 'donkey', 'baboon', 'lizard')\n",
      "('mouse', 'rat', 'dog', 'cat', 'lion', 'tiger', 'monkey', 'donkey', 'baboon', 'lizard')\n",
      "('rat', 'dog', 'cat')\n",
      "('mouse', 'rat', 'dog')\n",
      "('donkey', 'baboon', 'lizard')\n"
     ]
    }
   ],
   "source": [
    "my_tuple=\"mouse\",\"rat\",\"dog\",\"cat\",\"lion\",\"tiger\",\"monkey\",\"donkey\",\"baboon\",\"lizard\"\n",
    "print(my_tuple)\n",
    "print(my_tuple[:])\n",
    "print(my_tuple[1:4]) # from index,to index\n",
    "print(my_tuple[:-7]) # start till (last index - number given)\n",
    "print(my_tuple[7:]) # from index till end"
   ]
  },
  {
   "cell_type": "code",
   "execution_count": null,
   "metadata": {},
   "outputs": [],
   "source": []
  }
 ],
 "metadata": {
  "kernelspec": {
   "display_name": "Python 3",
   "language": "python",
   "name": "python3"
  },
  "language_info": {
   "codemirror_mode": {
    "name": "ipython",
    "version": 3
   },
   "file_extension": ".py",
   "mimetype": "text/x-python",
   "name": "python",
   "nbconvert_exporter": "python",
   "pygments_lexer": "ipython3",
   "version": "3.7.6"
  }
 },
 "nbformat": 4,
 "nbformat_minor": 4
}
